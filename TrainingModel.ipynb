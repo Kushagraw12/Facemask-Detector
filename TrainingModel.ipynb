{
  "nbformat": 4,
  "nbformat_minor": 0,
  "metadata": {
    "colab": {
      "name": "Untitled0.ipynb",
      "provenance": [],
      "collapsed_sections": []
    },
    "kernelspec": {
      "display_name": "Python 3",
      "name": "python3"
    },
    "language_info": {
      "name": "python"
    },
    "accelerator": "GPU"
  },
  "cells": [
    {
      "cell_type": "code",
      "metadata": {
        "id": "BynUvswiSLTo",
        "colab": {
          "base_uri": "https://localhost:8080/"
        },
        "outputId": "eb81de51-6d1a-4041-984f-dac18e5b5917"
      },
      "source": [
        "from google.colab import drive\n",
        "drive.mount('/gdrive',force_remount=True)"
      ],
      "execution_count": null,
      "outputs": [
        {
          "output_type": "stream",
          "text": [
            "Mounted at /gdrive\n"
          ],
          "name": "stdout"
        }
      ]
    },
    {
      "cell_type": "code",
      "metadata": {
        "id": "WbsTss60SfEZ"
      },
      "source": [
        "!unzip '/gdrive/My Drive/FMD12k.zip' -d '/temp2/'"
      ],
      "execution_count": null,
      "outputs": []
    },
    {
      "cell_type": "code",
      "metadata": {
        "id": "sOoltQshS0SZ"
      },
      "source": [
        "import numpy as np\n",
        "import keras\n",
        "import keras.backend as k\n",
        "import matplotlib.pyplot as plt\n",
        "from keras.layers import Conv2D,MaxPooling2D,SpatialDropout2D,Flatten,Dropout,Dense\n",
        "from keras.models import Sequential,load_model\n",
        "from keras.optimizers import Adam\n",
        "from keras.preprocessing import image\n",
        "from keras.preprocessing.image import ImageDataGenerator\n",
        "import cv2\n",
        "import datetime\n",
        "import os\n"
      ],
      "execution_count": null,
      "outputs": []
    },
    {
      "cell_type": "code",
      "metadata": {
        "colab": {
          "base_uri": "https://localhost:8080/"
        },
        "id": "pS2j4-i4UhvR",
        "outputId": "9f7236ed-4c76-4745-d3b6-815b964fb6d1"
      },
      "source": [
        "model=Sequential()\n",
        "model.add(Conv2D(32,(3,3),activation='relu',input_shape=(150,150,3)))\n",
        "model.add(MaxPooling2D() )\n",
        "model.add(Conv2D(32,(3,3),activation='relu'))\n",
        "model.add(MaxPooling2D() )\n",
        "model.add(Conv2D(32,(3,3),activation='relu'))\n",
        "model.add(MaxPooling2D() )\n",
        "model.add(Flatten())\n",
        "model.add(Dense(100,activation='relu'))\n",
        "model.add(Dense(1,activation='sigmoid'))\n",
        "model.summary()"
      ],
      "execution_count": null,
      "outputs": [
        {
          "output_type": "stream",
          "text": [
            "Model: \"sequential\"\n",
            "_________________________________________________________________\n",
            "Layer (type)                 Output Shape              Param #   \n",
            "=================================================================\n",
            "conv2d (Conv2D)              (None, 148, 148, 32)      896       \n",
            "_________________________________________________________________\n",
            "max_pooling2d (MaxPooling2D) (None, 74, 74, 32)        0         \n",
            "_________________________________________________________________\n",
            "conv2d_1 (Conv2D)            (None, 72, 72, 32)        9248      \n",
            "_________________________________________________________________\n",
            "max_pooling2d_1 (MaxPooling2 (None, 36, 36, 32)        0         \n",
            "_________________________________________________________________\n",
            "conv2d_2 (Conv2D)            (None, 34, 34, 32)        9248      \n",
            "_________________________________________________________________\n",
            "max_pooling2d_2 (MaxPooling2 (None, 17, 17, 32)        0         \n",
            "_________________________________________________________________\n",
            "flatten (Flatten)            (None, 9248)              0         \n",
            "_________________________________________________________________\n",
            "dense (Dense)                (None, 100)               924900    \n",
            "_________________________________________________________________\n",
            "dense_1 (Dense)              (None, 1)                 101       \n",
            "=================================================================\n",
            "Total params: 944,393\n",
            "Trainable params: 944,393\n",
            "Non-trainable params: 0\n",
            "_________________________________________________________________\n"
          ],
          "name": "stdout"
        }
      ]
    },
    {
      "cell_type": "code",
      "metadata": {
        "id": "MVKTBwT9UwN4"
      },
      "source": [
        "\n",
        "model.compile(optimizer = Adam(lr = 0.001), loss = 'binary_crossentropy', metrics = ['accuracy'])"
      ],
      "execution_count": null,
      "outputs": []
    },
    {
      "cell_type": "code",
      "metadata": {
        "colab": {
          "base_uri": "https://localhost:8080/"
        },
        "id": "I8iYdHj7U9Pn",
        "outputId": "9de41185-ba46-4d7f-b80f-b4083826fcf8"
      },
      "source": [
        "train_datagen = ImageDataGenerator(\n",
        "                  rescale = 1./255,\n",
        "                  shear_range = 0.2,\n",
        "                  zoom_range = 0.2,\n",
        "                  horizontal_flip = True)\n",
        "\n",
        "test_datagen = ImageDataGenerator(rescale = 1./255, horizontal_flip = True)\n",
        "\n",
        "training_set = train_datagen.flow_from_directory(\n",
        "              '/temp2/Face Mask Dataset/Train',\n",
        "              target_size = (150, 150),\n",
        "              batch_size = 16 ,\n",
        "              class_mode = 'binary')\n",
        "\n",
        "test_set = test_datagen.flow_from_directory(\n",
        "              '/temp2/Face Mask Dataset/Test',\n",
        "              target_size = (150, 150),\n",
        "              batch_size = 16,\n",
        "              class_mode = 'binary')\n"
      ],
      "execution_count": null,
      "outputs": [
        {
          "output_type": "stream",
          "text": [
            "Found 10000 images belonging to 2 classes.\n",
            "Found 992 images belonging to 2 classes.\n"
          ],
          "name": "stdout"
        }
      ]
    },
    {
      "cell_type": "code",
      "metadata": {
        "colab": {
          "base_uri": "https://localhost:8080/"
        },
        "id": "L13-5R2ddkUJ",
        "outputId": "5f4a2802-ce89-4d5d-cdbe-c95e32691cdd"
      },
      "source": [
        "filepath=\"/gdrive/My Drive/weights/zweights-{val_loss:.4f}.h5\"\n",
        "checkpoint = keras.callbacks.ModelCheckpoint(filepath, \n",
        "                                              monitor = 'val_loss', \n",
        "                                              verbose = 1, \n",
        "                                              save_best_only = True, \n",
        "                                              save_weights_only = True, \n",
        "                                              mode = 'auto', \n",
        "                                              period = 1)\n",
        "callbacks_list = [checkpoint]"
      ],
      "execution_count": null,
      "outputs": [
        {
          "output_type": "stream",
          "text": [
            "WARNING:tensorflow:`period` argument is deprecated. Please use `save_freq` to specify the frequency in number of batches seen.\n"
          ],
          "name": "stdout"
        }
      ]
    },
    {
      "cell_type": "code",
      "metadata": {
        "id": "istEHH-XfxdM"
      },
      "source": [
        "batch_size=16"
      ],
      "execution_count": null,
      "outputs": []
    },
    {
      "cell_type": "code",
      "metadata": {
        "id": "MtxmSAmmm0ZB"
      },
      "source": [
        "history = model.fit_generator(training_set, \n",
        "                    epochs = 50,  \n",
        "                    verbose = 1,\n",
        "                    validation_data = test_set,  \n",
        "                    callbacks = callbacks_list)\n",
        "print(history.history.keys())\n",
        "\n",
        "plt.plot(history.history['accuracy'])\n",
        "plt.plot(history.history['val_accuracy'])\n",
        "plt.title('model accuracy')\n",
        "plt.ylabel('accuracy')\n",
        "plt.xlabel('epoch')\n",
        "plt.legend(['train', 'test'], loc='upper left')\n",
        "plt.show()\n",
        "plt.plot(history.history['loss'])\n",
        "plt.plot(history.history['val_loss'])\n",
        "plt.title('model loss')\n",
        "plt.ylabel('loss')\n",
        "plt.xlabel('epoch')\n",
        "plt.legend(['train', 'test'], loc='upper left')\n",
        "plt.show()"
      ],
      "execution_count": null,
      "outputs": []
    }
  ]
}